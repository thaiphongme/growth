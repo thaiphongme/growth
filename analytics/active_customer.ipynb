{
 "cells": [
  {
   "cell_type": "code",
   "execution_count": 1,
   "metadata": {
    "tags": [
     "parameters"
    ]
   },
   "outputs": [],
   "source": [
    "import pandas as pd\n",
    "df = pd.read_csv('C:/Users/Nguyen Thai Phong/Desktop/data/active_customers.csv')"
   ]
  },
  {
   "cell_type": "code",
   "execution_count": null,
   "metadata": {},
   "outputs": [],
   "source": [
    "df['Date'] = pd.to_datetime(df['date'])"
   ]
  },
  {
   "cell_type": "code",
   "execution_count": 11,
   "metadata": {},
   "outputs": [
    {
     "data": {
      "text/html": [
       "<div><div id=b9af48a9-9118-4040-8363-2430cf15981f style=\"display:none; background-color:#9D6CFF; color:white; width:200px; height:30px; padding-left:5px; border-radius:4px; flex-direction:row; justify-content:space-around; align-items:center;\" onmouseover=\"this.style.backgroundColor='#BA9BF8'\" onmouseout=\"this.style.backgroundColor='#9D6CFF'\" onclick=\"window.commands?.execute('create-mitosheet-from-dataframe-output');\">See Full Dataframe in Mito</div> <script> if (window.commands?.hasCommand('create-mitosheet-from-dataframe-output')) document.getElementById('b9af48a9-9118-4040-8363-2430cf15981f').style.display = 'flex' </script> <table border=\"1\" class=\"dataframe\">\n",
       "  <thead>\n",
       "    <tr style=\"text-align: right;\">\n",
       "      <th></th>\n",
       "      <th>date</th>\n",
       "      <th>fk_customer</th>\n",
       "      <th>Date</th>\n",
       "    </tr>\n",
       "  </thead>\n",
       "  <tbody>\n",
       "    <tr>\n",
       "      <th>0</th>\n",
       "      <td>5/8/2022</td>\n",
       "      <td>7e405a61-b95c-4eb0-910c-2adc8a24c6a6</td>\n",
       "      <td>2022-05-08</td>\n",
       "    </tr>\n",
       "    <tr>\n",
       "      <th>1</th>\n",
       "      <td>10/19/2021</td>\n",
       "      <td>cda92d7d-fc24-43da-8819-e31d3e5abd0a</td>\n",
       "      <td>2021-10-19</td>\n",
       "    </tr>\n",
       "    <tr>\n",
       "      <th>2</th>\n",
       "      <td>2/9/2022</td>\n",
       "      <td>8ee0ff92-c226-467c-b068-a28f35ab060e</td>\n",
       "      <td>2022-02-09</td>\n",
       "    </tr>\n",
       "    <tr>\n",
       "      <th>3</th>\n",
       "      <td>5/31/2022</td>\n",
       "      <td>67a5133d-ef17-49f7-badc-09fd767d3db0</td>\n",
       "      <td>2022-05-31</td>\n",
       "    </tr>\n",
       "    <tr>\n",
       "      <th>4</th>\n",
       "      <td>11/30/2021</td>\n",
       "      <td>73250b11-9a3e-4621-80a0-4c4cbb39b00c</td>\n",
       "      <td>2021-11-30</td>\n",
       "    </tr>\n",
       "  </tbody>\n",
       "</table></div>"
      ],
      "text/plain": [
       "         date                           fk_customer       Date\n",
       "0    5/8/2022  7e405a61-b95c-4eb0-910c-2adc8a24c6a6 2022-05-08\n",
       "1  10/19/2021  cda92d7d-fc24-43da-8819-e31d3e5abd0a 2021-10-19\n",
       "2    2/9/2022  8ee0ff92-c226-467c-b068-a28f35ab060e 2022-02-09\n",
       "3   5/31/2022  67a5133d-ef17-49f7-badc-09fd767d3db0 2022-05-31\n",
       "4  11/30/2021  73250b11-9a3e-4621-80a0-4c4cbb39b00c 2021-11-30"
      ]
     },
     "execution_count": 11,
     "metadata": {},
     "output_type": "execute_result"
    }
   ],
   "source": [
    "df.head()"
   ]
  },
  {
   "cell_type": "code",
   "execution_count": 3,
   "metadata": {},
   "outputs": [],
   "source": [
    "import pandas as pd\n",
    "month_end = pd.read_csv('C:/Users/Nguyen Thai Phong/Desktop/data/month_end.csv')"
   ]
  },
  {
   "cell_type": "code",
   "execution_count": 12,
   "metadata": {},
   "outputs": [
    {
     "data": {
      "text/html": [
       "<div><div id=b9136f74-7839-4803-b257-6e12ec62f6a2 style=\"display:none; background-color:#9D6CFF; color:white; width:200px; height:30px; padding-left:5px; border-radius:4px; flex-direction:row; justify-content:space-around; align-items:center;\" onmouseover=\"this.style.backgroundColor='#BA9BF8'\" onmouseout=\"this.style.backgroundColor='#9D6CFF'\" onclick=\"window.commands?.execute('create-mitosheet-from-dataframe-output');\">See Full Dataframe in Mito</div> <script> if (window.commands?.hasCommand('create-mitosheet-from-dataframe-output')) document.getElementById('b9136f74-7839-4803-b257-6e12ec62f6a2').style.display = 'flex' </script> <table border=\"1\" class=\"dataframe\">\n",
       "  <thead>\n",
       "    <tr style=\"text-align: right;\">\n",
       "      <th></th>\n",
       "      <th>year</th>\n",
       "      <th>month</th>\n",
       "      <th>first_date</th>\n",
       "      <th>end</th>\n",
       "      <th>start</th>\n",
       "      <th>index</th>\n",
       "    </tr>\n",
       "  </thead>\n",
       "  <tbody>\n",
       "    <tr>\n",
       "      <th>0</th>\n",
       "      <td>2020</td>\n",
       "      <td>1</td>\n",
       "      <td>1/1/2020</td>\n",
       "      <td>1/31/2020</td>\n",
       "      <td>2/1/2019</td>\n",
       "      <td>0</td>\n",
       "    </tr>\n",
       "    <tr>\n",
       "      <th>1</th>\n",
       "      <td>2020</td>\n",
       "      <td>2</td>\n",
       "      <td>2/1/2020</td>\n",
       "      <td>2/29/2020</td>\n",
       "      <td>3/2/2019</td>\n",
       "      <td>1</td>\n",
       "    </tr>\n",
       "    <tr>\n",
       "      <th>2</th>\n",
       "      <td>2020</td>\n",
       "      <td>3</td>\n",
       "      <td>3/1/2020</td>\n",
       "      <td>3/31/2020</td>\n",
       "      <td>4/2/2019</td>\n",
       "      <td>2</td>\n",
       "    </tr>\n",
       "    <tr>\n",
       "      <th>3</th>\n",
       "      <td>2020</td>\n",
       "      <td>4</td>\n",
       "      <td>4/1/2020</td>\n",
       "      <td>4/30/2020</td>\n",
       "      <td>5/2/2019</td>\n",
       "      <td>3</td>\n",
       "    </tr>\n",
       "    <tr>\n",
       "      <th>4</th>\n",
       "      <td>2020</td>\n",
       "      <td>5</td>\n",
       "      <td>5/1/2020</td>\n",
       "      <td>5/31/2020</td>\n",
       "      <td>6/2/2019</td>\n",
       "      <td>4</td>\n",
       "    </tr>\n",
       "  </tbody>\n",
       "</table></div>"
      ],
      "text/plain": [
       "   year  month first_date        end     start  index\n",
       "0  2020      1   1/1/2020  1/31/2020  2/1/2019      0\n",
       "1  2020      2   2/1/2020  2/29/2020  3/2/2019      1\n",
       "2  2020      3   3/1/2020  3/31/2020  4/2/2019      2\n",
       "3  2020      4   4/1/2020  4/30/2020  5/2/2019      3\n",
       "4  2020      5   5/1/2020  5/31/2020  6/2/2019      4"
      ]
     },
     "execution_count": 12,
     "metadata": {},
     "output_type": "execute_result"
    }
   ],
   "source": [
    "month_end.head()"
   ]
  },
  {
   "cell_type": "code",
   "execution_count": 4,
   "metadata": {},
   "outputs": [],
   "source": []
  },
  {
   "cell_type": "code",
   "execution_count": 5,
   "metadata": {},
   "outputs": [],
   "source": [
    "month_end['index'] = month_end.index\n",
    "\n",
    "from datetime import date\n",
    "current_year = date.today().year\n",
    "month_end=month_end.loc[(month_end['year']<= current_year)]"
   ]
  },
  {
   "cell_type": "code",
   "execution_count": 6,
   "metadata": {},
   "outputs": [],
   "source": [
    "# looping\n",
    "\n",
    "column = month_end[\"index\"]\n",
    "min_value = column.min()\n",
    "max_value = column.max()\n",
    "\n",
    "i=0\n",
    "\n",
    "active_customers = []\n",
    "new_users = []\n",
    "\n",
    "for i in range (min_value,max_value + 1):\n",
    "    filter_time=month_end.loc[(month_end['index'] == i)]\n",
    "    end = filter_time.iat[0,3]\n",
    "    start = filter_time.iat[0,4]\n",
    "    filter_df = df[(df['Date'] >= start) & (df['Date'] <= end)]\n",
    "    \n",
    "    count = filter_df['fk_customer'].nunique()\n",
    "    active_customers.append(count)    \n",
    "    "
   ]
  },
  {
   "cell_type": "code",
   "execution_count": 7,
   "metadata": {},
   "outputs": [],
   "source": [
    "from pandas import DataFrame\n",
    "\n",
    "active_customers_df = DataFrame(active_customers,columns=['active_customers'])\n",
    "active_customers_df['index'] = active_customers_df.index\n",
    "active_customer=active_customers_df.merge(month_end,on=['index'])\n"
   ]
  },
  {
   "cell_type": "code",
   "execution_count": 10,
   "metadata": {},
   "outputs": [
    {
     "data": {
      "text/html": [
       "<div><div id=c9810b6e-cc56-4c6a-af3b-3f172ba9b770 style=\"display:none; background-color:#9D6CFF; color:white; width:200px; height:30px; padding-left:5px; border-radius:4px; flex-direction:row; justify-content:space-around; align-items:center;\" onmouseover=\"this.style.backgroundColor='#BA9BF8'\" onmouseout=\"this.style.backgroundColor='#9D6CFF'\" onclick=\"window.commands?.execute('create-mitosheet-from-dataframe-output');\">See Full Dataframe in Mito</div> <script> if (window.commands?.hasCommand('create-mitosheet-from-dataframe-output')) document.getElementById('c9810b6e-cc56-4c6a-af3b-3f172ba9b770').style.display = 'flex' </script> <table border=\"1\" class=\"dataframe\">\n",
       "  <thead>\n",
       "    <tr style=\"text-align: right;\">\n",
       "      <th></th>\n",
       "      <th>active_customers</th>\n",
       "      <th>index</th>\n",
       "      <th>year</th>\n",
       "      <th>month</th>\n",
       "      <th>first_date</th>\n",
       "      <th>end</th>\n",
       "      <th>start</th>\n",
       "    </tr>\n",
       "  </thead>\n",
       "  <tbody>\n",
       "    <tr>\n",
       "      <th>0</th>\n",
       "      <td>0</td>\n",
       "      <td>0</td>\n",
       "      <td>2020</td>\n",
       "      <td>1</td>\n",
       "      <td>1/1/2020</td>\n",
       "      <td>1/31/2020</td>\n",
       "      <td>2/1/2019</td>\n",
       "    </tr>\n",
       "    <tr>\n",
       "      <th>1</th>\n",
       "      <td>0</td>\n",
       "      <td>1</td>\n",
       "      <td>2020</td>\n",
       "      <td>2</td>\n",
       "      <td>2/1/2020</td>\n",
       "      <td>2/29/2020</td>\n",
       "      <td>3/2/2019</td>\n",
       "    </tr>\n",
       "    <tr>\n",
       "      <th>2</th>\n",
       "      <td>0</td>\n",
       "      <td>2</td>\n",
       "      <td>2020</td>\n",
       "      <td>3</td>\n",
       "      <td>3/1/2020</td>\n",
       "      <td>3/31/2020</td>\n",
       "      <td>4/2/2019</td>\n",
       "    </tr>\n",
       "    <tr>\n",
       "      <th>3</th>\n",
       "      <td>0</td>\n",
       "      <td>3</td>\n",
       "      <td>2020</td>\n",
       "      <td>4</td>\n",
       "      <td>4/1/2020</td>\n",
       "      <td>4/30/2020</td>\n",
       "      <td>5/2/2019</td>\n",
       "    </tr>\n",
       "    <tr>\n",
       "      <th>4</th>\n",
       "      <td>0</td>\n",
       "      <td>4</td>\n",
       "      <td>2020</td>\n",
       "      <td>5</td>\n",
       "      <td>5/1/2020</td>\n",
       "      <td>5/31/2020</td>\n",
       "      <td>6/2/2019</td>\n",
       "    </tr>\n",
       "  </tbody>\n",
       "</table></div>"
      ],
      "text/plain": [
       "   active_customers  index  year  month first_date        end     start\n",
       "0                 0      0  2020      1   1/1/2020  1/31/2020  2/1/2019\n",
       "1                 0      1  2020      2   2/1/2020  2/29/2020  3/2/2019\n",
       "2                 0      2  2020      3   3/1/2020  3/31/2020  4/2/2019\n",
       "3                 0      3  2020      4   4/1/2020  4/30/2020  5/2/2019\n",
       "4                 0      4  2020      5   5/1/2020  5/31/2020  6/2/2019"
      ]
     },
     "execution_count": 10,
     "metadata": {},
     "output_type": "execute_result"
    }
   ],
   "source": [
    "active_customer.head()"
   ]
  },
  {
   "cell_type": "code",
   "execution_count": 20,
   "metadata": {},
   "outputs": [
    {
     "data": {
      "text/plain": [
       "<AxesSubplot:xlabel='first_date'>"
      ]
     },
     "execution_count": 20,
     "metadata": {},
     "output_type": "execute_result"
    },
    {
     "data": {
      "image/png": "[encoded data removed]",
      "text/plain": [
       "<Figure size 648x576 with 1 Axes>"
      ]
     },
     "metadata": {
      "needs_background": "light"
     },
     "output_type": "display_data"
    }
   ],
   "source": [
    "import matplotlib.pyplot as mp\n",
    "active_customer.plot(x=\"first_date\", y=[\"active_customers\"], kind=\"bar\", figsize=(9, 8))"
   ]
  },
  {
   "cell_type": "code",
   "execution_count": null,
   "metadata": {},
   "outputs": [],
   "source": []
  }
 ],
 "metadata": {
  "kernelspec": {
   "display_name": "Python 3.9.5 64-bit",
   "language": "python",
   "name": "python3"
  },
  "language_info": {
   "codemirror_mode": {
    "name": "ipython",
    "version": 3
   },
   "file_extension": ".py",
   "mimetype": "text/x-python",
   "name": "python",
   "nbconvert_exporter": "python",
   "pygments_lexer": "ipython3",
   "version": "3.9.5"
  },
  "vscode": {
   "interpreter": {
    "hash": "ecfb2d11f7c21852ea009c8b250eafd3499e591a2d97dfd1da8e300f51803076"
   }
  }
 },
 "nbformat": 4,
 "nbformat_minor": 4
}
