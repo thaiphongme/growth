{
 "cells": [
  {
   "cell_type": "code",
   "execution_count": 1,
   "id": "476b4505",
   "metadata": {},
   "outputs": [],
   "source": [
    "#create dataframe from mySQL server\n",
    "import pymysql\n",
    "import pandas as pd\n",
    "\n",
    "conn=pymysql.connect(host='heatwave2multisource.multisource.prodvcn.oraclevcn.com',port=int(3306),user='abc',passwd='123',db='phong_db')\n"
   ]
  },
  {
   "cell_type": "code",
   "execution_count": 2,
   "id": "661b5156",
   "metadata": {},
   "outputs": [],
   "source": [
    "df = pd.read_sql_query(\n",
    "\"\"\" \n",
    "select * from phong_db.customers_multiple_merchants\n",
    "\n",
    "\"\"\",conn)\n"
   ]
  },
  {
   "cell_type": "code",
   "execution_count": 3,
   "id": "20b9b320",
   "metadata": {},
   "outputs": [],
   "source": [
    "df['Date'] = pd.to_datetime(df['date'], format='%Y-%m-%d')"
   ]
  },
  {
   "cell_type": "code",
   "execution_count": 4,
   "id": "81557a63",
   "metadata": {},
   "outputs": [
    {
     "data": {
      "text/html": [
       "<div>\n",
       "<style scoped>\n",
       "    .dataframe tbody tr th:only-of-type {\n",
       "        vertical-align: middle;\n",
       "    }\n",
       "\n",
       "    .dataframe tbody tr th {\n",
       "        vertical-align: top;\n",
       "    }\n",
       "\n",
       "    .dataframe thead th {\n",
       "        text-align: right;\n",
       "    }\n",
       "</style>\n",
       "<table border=\"1\" class=\"dataframe\">\n",
       "  <thead>\n",
       "    <tr style=\"text-align: right;\">\n",
       "      <th></th>\n",
       "      <th>concat</th>\n",
       "      <th>fk_customer</th>\n",
       "      <th>id_merchant</th>\n",
       "      <th>merchant_name</th>\n",
       "      <th>date</th>\n",
       "      <th>now</th>\n",
       "      <th>year</th>\n",
       "      <th>month</th>\n",
       "      <th>timestamp</th>\n",
       "      <th>merchant_ranking</th>\n",
       "      <th>Date</th>\n",
       "    </tr>\n",
       "  </thead>\n",
       "  <tbody>\n",
       "    <tr>\n",
       "      <th>0</th>\n",
       "      <td>01b40c65-7f74-4052-ad92-3ccd963a62992b7c91f9-5...</td>\n",
       "      <td>01b40c65-7f74-4052-ad92-3ccd963a6299</td>\n",
       "      <td>2b7c91f9-56f4-4cca-ad9b-793aeb134095</td>\n",
       "      <td>SHEIN</td>\n",
       "      <td>2022-04-09</td>\n",
       "      <td>2022-06-14</td>\n",
       "      <td>2022</td>\n",
       "      <td>4</td>\n",
       "      <td>2022-04-09 04:34:41</td>\n",
       "      <td>1</td>\n",
       "      <td>2022-04-09</td>\n",
       "    </tr>\n",
       "    <tr>\n",
       "      <th>1</th>\n",
       "      <td>01b40c65-7f74-4052-ad92-3ccd963a6299dce1da30-e...</td>\n",
       "      <td>01b40c65-7f74-4052-ad92-3ccd963a6299</td>\n",
       "      <td>dce1da30-e47b-47d2-937c-606d55a4a964</td>\n",
       "      <td>Fitness Time</td>\n",
       "      <td>2022-05-31</td>\n",
       "      <td>2022-06-14</td>\n",
       "      <td>2022</td>\n",
       "      <td>5</td>\n",
       "      <td>2022-05-31 22:05:22</td>\n",
       "      <td>2</td>\n",
       "      <td>2022-05-31</td>\n",
       "    </tr>\n",
       "    <tr>\n",
       "      <th>2</th>\n",
       "      <td>01b40bff-2d6c-413b-ab00-1f0129c986d293f745d3-d...</td>\n",
       "      <td>01b40bff-2d6c-413b-ab00-1f0129c986d2</td>\n",
       "      <td>93f745d3-d1b5-4a5e-a9e8-deaffdd38336</td>\n",
       "      <td>Floward</td>\n",
       "      <td>2021-09-13</td>\n",
       "      <td>2022-06-14</td>\n",
       "      <td>2021</td>\n",
       "      <td>9</td>\n",
       "      <td>2021-09-13 13:42:26</td>\n",
       "      <td>1</td>\n",
       "      <td>2021-09-13</td>\n",
       "    </tr>\n",
       "    <tr>\n",
       "      <th>3</th>\n",
       "      <td>01b40bff-2d6c-413b-ab00-1f0129c986d202189dbf-a...</td>\n",
       "      <td>01b40bff-2d6c-413b-ab00-1f0129c986d2</td>\n",
       "      <td>02189dbf-a1c9-4d37-a6d1-1dba818af244</td>\n",
       "      <td>Specialty Hub</td>\n",
       "      <td>2021-09-28</td>\n",
       "      <td>2022-06-14</td>\n",
       "      <td>2021</td>\n",
       "      <td>9</td>\n",
       "      <td>2021-09-28 10:23:24</td>\n",
       "      <td>2</td>\n",
       "      <td>2021-09-28</td>\n",
       "    </tr>\n",
       "    <tr>\n",
       "      <th>4</th>\n",
       "      <td>01b3d922-6d23-445c-914b-684d3ccdaa982b7c91f9-5...</td>\n",
       "      <td>01b3d922-6d23-445c-914b-684d3ccdaa98</td>\n",
       "      <td>2b7c91f9-56f4-4cca-ad9b-793aeb134095</td>\n",
       "      <td>SHEIN</td>\n",
       "      <td>2021-11-25</td>\n",
       "      <td>2022-06-14</td>\n",
       "      <td>2021</td>\n",
       "      <td>11</td>\n",
       "      <td>2021-11-25 03:18:57</td>\n",
       "      <td>1</td>\n",
       "      <td>2021-11-25</td>\n",
       "    </tr>\n",
       "  </tbody>\n",
       "</table>\n",
       "</div>"
      ],
      "text/plain": [
       "                                              concat  \\\n",
       "0  01b40c65-7f74-4052-ad92-3ccd963a62992b7c91f9-5...   \n",
       "1  01b40c65-7f74-4052-ad92-3ccd963a6299dce1da30-e...   \n",
       "2  01b40bff-2d6c-413b-ab00-1f0129c986d293f745d3-d...   \n",
       "3  01b40bff-2d6c-413b-ab00-1f0129c986d202189dbf-a...   \n",
       "4  01b3d922-6d23-445c-914b-684d3ccdaa982b7c91f9-5...   \n",
       "\n",
       "                            fk_customer                           id_merchant  \\\n",
       "0  01b40c65-7f74-4052-ad92-3ccd963a6299  2b7c91f9-56f4-4cca-ad9b-793aeb134095   \n",
       "1  01b40c65-7f74-4052-ad92-3ccd963a6299  dce1da30-e47b-47d2-937c-606d55a4a964   \n",
       "2  01b40bff-2d6c-413b-ab00-1f0129c986d2  93f745d3-d1b5-4a5e-a9e8-deaffdd38336   \n",
       "3  01b40bff-2d6c-413b-ab00-1f0129c986d2  02189dbf-a1c9-4d37-a6d1-1dba818af244   \n",
       "4  01b3d922-6d23-445c-914b-684d3ccdaa98  2b7c91f9-56f4-4cca-ad9b-793aeb134095   \n",
       "\n",
       "   merchant_name        date         now  year  month           timestamp  \\\n",
       "0          SHEIN  2022-04-09  2022-06-14  2022      4 2022-04-09 04:34:41   \n",
       "1   Fitness Time  2022-05-31  2022-06-14  2022      5 2022-05-31 22:05:22   \n",
       "2        Floward  2021-09-13  2022-06-14  2021      9 2021-09-13 13:42:26   \n",
       "3  Specialty Hub  2021-09-28  2022-06-14  2021      9 2021-09-28 10:23:24   \n",
       "4          SHEIN  2021-11-25  2022-06-14  2021     11 2021-11-25 03:18:57   \n",
       "\n",
       "   merchant_ranking       Date  \n",
       "0                 1 2022-04-09  \n",
       "1                 2 2022-05-31  \n",
       "2                 1 2021-09-13  \n",
       "3                 2 2021-09-28  \n",
       "4                 1 2021-11-25  "
      ]
     },
     "execution_count": 4,
     "metadata": {},
     "output_type": "execute_result"
    }
   ],
   "source": [
    "df.head()"
   ]
  },
  {
   "cell_type": "code",
   "execution_count": 5,
   "id": "7bdc3efa",
   "metadata": {},
   "outputs": [],
   "source": [
    "from datetime import datetime, timedelta\n",
    "\n",
    "start_date ='2022-06-01'\n",
    "start_date=datetime.fromisoformat(start_date).date()\n",
    "end_date = datetime.strftime(datetime.now() - timedelta(1), '%Y-%m-%d')\n",
    "end_date=datetime.fromisoformat(end_date).date()"
   ]
  },
  {
   "cell_type": "code",
   "execution_count": 6,
   "id": "27dc68ed",
   "metadata": {},
   "outputs": [
    {
     "name": "stderr",
     "output_type": "stream",
     "text": [
      "C:\\Users\\NGUYEN~1\\AppData\\Local\\Temp/ipykernel_6856/2959973059.py:21: FutureWarning: The default value of regex will change from True to False in a future version. In addition, single character regular expressions will *not* be treated as literal strings when regex=True.\n",
      "  df3['old'] = df3[\"old\"].str.replace(\"]\",\"\")\n",
      "C:\\Users\\NGUYEN~1\\AppData\\Local\\Temp/ipykernel_6856/2959973059.py:22: FutureWarning: The default value of regex will change from True to False in a future version. In addition, single character regular expressions will *not* be treated as literal strings when regex=True.\n",
      "  df3['old'] = df3[\"old\"].str.replace(\"[\",\"\")\n"
     ]
    }
   ],
   "source": [
    "import datetime\n",
    "\n",
    "df_append = []\n",
    "\n",
    "while (start_date  <= end_date):\n",
    "\n",
    "    df_s=df[df[\"Date\"]== start_date.strftime('%Y-%m-%d')]\n",
    "    df_before=df[df[\"Date\"] < start_date.strftime('%Y-%m-%d')]    \n",
    "    \n",
    "    df1 = df_s[['fk_customer','id_merchant','merchant_name','Date']].drop_duplicates()\n",
    "    df1.reset_index(drop=True)\n",
    "    df1.rename(columns = {'merchant_name':'new'}, inplace = True)\n",
    "    df_before = df_before[['fk_customer','id_merchant','merchant_name']].drop_duplicates()\n",
    "\n",
    "    df2 = df_before.groupby([\"fk_customer\"])['merchant_name'].apply(list).reset_index(name='old')\n",
    "    df3=df1.merge(df2,on=['fk_customer'], how='left')\n",
    "\n",
    "    df3['new'] = df3['new'].astype(str)\n",
    "    df3['old'] = df3['old'].astype(str)\n",
    "\n",
    "    df3['old'] = df3[\"old\"].str.replace(\"]\",\"\")\n",
    "    df3['old'] = df3[\"old\"].str.replace(\"[\",\"\")\n",
    "    df3['old'] = df3[\"old\"].str.replace(\"'\",\"\")\n",
    "\n",
    "    df3['flag'] = df3.apply(lambda x: x.new in x.old, axis=1)   \n",
    "    \n",
    "    # filter the existing customers acquisition\n",
    "    df4 = df3[df3['flag'] == False ]\n",
    "\n",
    "    # counting the number of existing customer acquisition by merchant\n",
    "    df5 = df4.groupby(['Date','new'])['fk_customer'].nunique().to_frame(name = 'count').reset_index()\n",
    "\n",
    "    df_append.append(df5)\n",
    "    \n",
    "    \n",
    "    start_date = start_date + datetime.timedelta(days=1) \n",
    "\n",
    " "
   ]
  },
  {
   "cell_type": "code",
   "execution_count": 7,
   "id": "ccdef7d4",
   "metadata": {},
   "outputs": [],
   "source": [
    "df6 = pd.concat(df_append)\n",
    "df7 = df6.groupby('Date')['count'].sum()\n",
    "df8 = pd.DataFrame(df7)"
   ]
  },
  {
   "cell_type": "code",
   "execution_count": 8,
   "id": "4d1d629f",
   "metadata": {},
   "outputs": [
    {
     "data": {
      "image/png": "[encoded data removed]",
      "text/plain": [
       "<Figure size 1152x360 with 1 Axes>"
      ]
     },
     "metadata": {
      "needs_background": "light"
     },
     "output_type": "display_data"
    }
   ],
   "source": [
    "# plot\n",
    "import pandas as pd\n",
    "import matplotlib.pyplot as plt\n",
    "import numpy as np\n",
    "fig, ax = plt.subplots()\n",
    "df8.plot(kind=\"bar\", figsize=(16,5), stacked=True, ax=ax)\n",
    "\n",
    "# format xtick-labels with list comprehension\n",
    "ax.set_xticklabels([x.strftime(\"%Y-%m-%d\") for x in df8.index], rotation=45)\n",
    "plt.show()"
   ]
  }
 ],
 "metadata": {
  "interpreter": {
   "hash": "ecfb2d11f7c21852ea009c8b250eafd3499e591a2d97dfd1da8e300f51803076"
  },
  "kernelspec": {
   "display_name": "Python 3.9.5 64-bit",
   "language": "python",
   "name": "python3"
  },
  "language_info": {
   "codemirror_mode": {
    "name": "ipython",
    "version": 3
   },
   "file_extension": ".py",
   "mimetype": "text/x-python",
   "name": "python",
   "nbconvert_exporter": "python",
   "pygments_lexer": "ipython3",
   "version": "3.9.5"
  }
 },
 "nbformat": 4,
 "nbformat_minor": 5
}
