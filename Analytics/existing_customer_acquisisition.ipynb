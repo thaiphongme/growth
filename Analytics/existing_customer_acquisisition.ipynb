{
 "cells": [
  {
   "cell_type": "code",
   "execution_count": 1,
   "id": "476b4505",
   "metadata": {},
   "outputs": [],
   "source": [
    "#create dataframe from mySQL server\n",
    "import pymysql\n",
    "import pandas as pd\n",
    "\n",
    "conn=pymysql.connect(host='heatwave2multisource.multisource.prodvcn.oraclevcn.com',port=int(3306),user='phongthai',passwd='kg38IR^Ejer28e',db='phong_db')\n"
   ]
  },
  {
   "cell_type": "code",
   "execution_count": 549,
   "id": "661b5156",
   "metadata": {},
   "outputs": [],
   "source": [
    "df = pd.read_sql_query(\n",
    "\"\"\" \n",
    "select * from phong_db.customers_multiple_merchants\n",
    "\n",
    "\"\"\",conn)\n"
   ]
  },
  {
   "cell_type": "code",
   "execution_count": 550,
   "id": "20b9b320",
   "metadata": {},
   "outputs": [],
   "source": [
    "df['Date'] = pd.to_datetime(df['date'], format='%Y-%m-%d')"
   ]
  },
  {
   "cell_type": "code",
   "execution_count": 551,
   "id": "7bdc3efa",
   "metadata": {},
   "outputs": [],
   "source": [
    "from datetime import datetime, timedelta\n",
    "\n",
    "start_date ='2022-06-01'\n",
    "start_date=datetime.fromisoformat(start_date).date()\n",
    "end_date = datetime.strftime(datetime.now() - timedelta(1), '%Y-%m-%d')\n",
    "end_date=datetime.fromisoformat(end_date).date()"
   ]
  },
  {
   "cell_type": "code",
   "execution_count": 552,
   "id": "27dc68ed",
   "metadata": {},
   "outputs": [
    {
     "name": "stderr",
     "output_type": "stream",
     "text": [
      "C:\\Users\\NGUYEN~1\\AppData\\Local\\Temp/ipykernel_27836/2959973059.py:21: FutureWarning: The default value of regex will change from True to False in a future version. In addition, single character regular expressions will *not* be treated as literal strings when regex=True.\n",
      "  df3['old'] = df3[\"old\"].str.replace(\"]\",\"\")\n",
      "C:\\Users\\NGUYEN~1\\AppData\\Local\\Temp/ipykernel_27836/2959973059.py:22: FutureWarning: The default value of regex will change from True to False in a future version. In addition, single character regular expressions will *not* be treated as literal strings when regex=True.\n",
      "  df3['old'] = df3[\"old\"].str.replace(\"[\",\"\")\n"
     ]
    }
   ],
   "source": [
    "import datetime\n",
    "\n",
    "df_append = []\n",
    "\n",
    "while (start_date  <= end_date):\n",
    "\n",
    "    df_s=df[df[\"Date\"]== start_date.strftime('%Y-%m-%d')]\n",
    "    df_before=df[df[\"Date\"] < start_date.strftime('%Y-%m-%d')]    \n",
    "    \n",
    "    df1 = df_s[['fk_customer','id_merchant','merchant_name','Date']].drop_duplicates()\n",
    "    df1.reset_index(drop=True)\n",
    "    df1.rename(columns = {'merchant_name':'new'}, inplace = True)\n",
    "    df_before = df_before[['fk_customer','id_merchant','merchant_name']].drop_duplicates()\n",
    "\n",
    "    df2 = df_before.groupby([\"fk_customer\"])['merchant_name'].apply(list).reset_index(name='old')\n",
    "    df3=df1.merge(df2,on=['fk_customer'], how='left')\n",
    "\n",
    "    df3['new'] = df3['new'].astype(str)\n",
    "    df3['old'] = df3['old'].astype(str)\n",
    "\n",
    "    df3['old'] = df3[\"old\"].str.replace(\"]\",\"\")\n",
    "    df3['old'] = df3[\"old\"].str.replace(\"[\",\"\")\n",
    "    df3['old'] = df3[\"old\"].str.replace(\"'\",\"\")\n",
    "\n",
    "    df3['flag'] = df3.apply(lambda x: x.new in x.old, axis=1)   \n",
    "    \n",
    "    # filter the existing customers acquisition\n",
    "    df4 = df3[df3['flag'] == False ]\n",
    "\n",
    "    # counting the number of existing customer acquisition by merchant\n",
    "    df5 = df4.groupby(['Date','new'])['fk_customer'].nunique().to_frame(name = 'count').reset_index()\n",
    "\n",
    "    df_append.append(df5)\n",
    "    \n",
    "    \n",
    "    start_date = start_date + datetime.timedelta(days=1) \n",
    "\n",
    " "
   ]
  },
  {
   "cell_type": "code",
   "execution_count": 553,
   "id": "ccdef7d4",
   "metadata": {},
   "outputs": [],
   "source": [
    "df6 = pd.concat(df_append)\n",
    "df7 = df6.groupby('Date')['count'].sum()\n",
    "df8 = pd.DataFrame(df7)"
   ]
  },
  {
   "cell_type": "code",
   "execution_count": 556,
   "id": "4d1d629f",
   "metadata": {},
   "outputs": [
    {
     "data": {
      "image/png": "[encoded data removed]",
      "text/plain": [
       "<Figure size 1152x360 with 1 Axes>"
      ]
     },
     "metadata": {
      "needs_background": "light"
     },
     "output_type": "display_data"
    }
   ],
   "source": [
    "# plot\n",
    "import pandas as pd\n",
    "import matplotlib.pyplot as plt\n",
    "import numpy as np\n",
    "fig, ax = plt.subplots()\n",
    "df8.plot(kind=\"bar\", figsize=(16,5), stacked=True, ax=ax)\n",
    "\n",
    "# format xtick-labels with list comprehension\n",
    "ax.set_xticklabels([x.strftime(\"%Y-%m-%d\") for x in df8.index], rotation=45)\n",
    "plt.show()"
   ]
  }
 ],
 "metadata": {
  "kernelspec": {
   "display_name": "Python 3 (ipykernel)",
   "language": "python",
   "name": "python3"
  },
  "language_info": {
   "codemirror_mode": {
    "name": "ipython",
    "version": 3
   },
   "file_extension": ".py",
   "mimetype": "text/x-python",
   "name": "python",
   "nbconvert_exporter": "python",
   "pygments_lexer": "ipython3",
   "version": "3.9.5"
  }
 },
 "nbformat": 4,
 "nbformat_minor": 5
}
